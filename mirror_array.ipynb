{
  "cells": [
    {
      "cell_type": "code",
      "source": [
        ""
      ],
      "metadata": {
        "id": "vpb14D0Xo0Sr"
      },
      "execution_count": null,
      "outputs": []
    },
    {
      "cell_type": "markdown",
      "source": [
        "# test section\n",
        "\n"
      ],
      "metadata": {
        "id": "S1h2OxZepKa9"
      }
    },
    {
      "cell_type": "markdown",
      "source": [
        "testing sin x cos x"
      ],
      "metadata": {
        "id": "fsgSk3a4mJcQ"
      }
    },
    {
      "cell_type": "code",
      "source": [
        "\n",
        "def sin5q(x):\n",
        "        A = 6.28230858\n",
        "        B = -41.1693687\n",
        "        C = 74.4388885\n",
        "        x2 = x * x\n",
        "        return x * (A + x2 * (B + x2 * C))\n",
        "    \n",
        "def sin(x):\n",
        "        pi2 = 1 / (2 * 3.1415926535)\n",
        "        x_2 = 0.25 - x * pi2;\n",
        "        z = 0.25 - abs(x_2 - round(x_2))\n",
        "        print(sin5q(z))\n",
        "        return sin5q(z)\n",
        "    \n",
        "def cos(x):\n",
        "        pi2 = 1 / (2 * 3.1415926535)\n",
        "        x_2 = x * pi2\n",
        "        z = 0.25 - abs(x_2 - round(x_2))\n",
        "        print(sin5q(z))\n",
        "        return sin5q(z)\n",
        "  \n",
        "print(\"hello world\")\n",
        "\n",
        "   "
      ],
      "metadata": {
        "id": "udfByU71WxCi"
      },
      "execution_count": null,
      "outputs": []
    },
    {
      "cell_type": "markdown",
      "source": [
        "trying to plot >>>>"
      ],
      "metadata": {
        "id": "b1FGzWUSk5kK"
      }
    },
    {
      "cell_type": "code",
      "source": [
        "import jax.numpy as jnp\n",
        "import matplotlib.pyplot as plt\n",
        "\n",
        "pi2 = 1 / (2 * 3.1415926535)\n",
        "%time cos(jnp.linspace(0,pi2,50))\n",
        "%time sin(jnp.linspace(0,pi2,50))\n",
        "a,b=jnp.sin(jnp.linspace(0,pi2*400,50)), sin(jnp.linspace(0,pi2,50))\n",
        "c,d=jnp.cos(jnp.linspace(0,pi2*400,50)), sin(jnp.linspace(0,pi2,50))\n",
        "e,f=jnp.cos(jnp.linspace(0,pi2*400,50)), cos(jnp.linspace(0,pi2,50))+sin(jnp.linspace(0,pi2,50))\n",
        "plt.scatter(a,b);"
      ],
      "metadata": {
        "id": "uCUCgjzmaJlz"
      },
      "execution_count": null,
      "outputs": []
    },
    {
      "cell_type": "markdown",
      "source": [
        "trying with jax"
      ],
      "metadata": {
        "id": "sPT9DoAafLYv"
      }
    },
    {
      "cell_type": "code",
      "source": [
        "import jax.numpy as jnp\n",
        "%time jnp.sin(3.14159*.5)\n",
        "%time sin(3.14159*.5)"
      ],
      "metadata": {
        "id": "0sJ293QvZHHk"
      },
      "execution_count": null,
      "outputs": []
    },
    {
      "cell_type": "code",
      "source": [
        "import jax.numpy as jnp\n",
        "from jax import random\n",
        "import matplotlib.pyplot as plt\n",
        "\n",
        "xs = random.normal(0,shape=(100,))\n",
        "noise = random.normal(scale=0.1, shape=(100,))\n",
        "ys = xs * 3 - 1 + noise\n",
        "\n",
        "plt.scatter(jnp.sin(ys), sin(ys));"
      ],
      "metadata": {
        "id": "QZukHOZcf4YR"
      },
      "execution_count": null,
      "outputs": []
    },
    {
      "cell_type": "markdown",
      "source": [
        "original c++ code"
      ],
      "metadata": {
        "id": "xD7RAUKBfFqO"
      }
    },
    {
      "cell_type": "code",
      "execution_count": null,
      "metadata": {
        "id": "drit9bG0ftm-"
      },
      "outputs": [],
      "source": [
        "%%writefile filename.cpp\n",
        "\n",
        "#include<stdio.h>\n",
        "\n",
        "int main(void) {\n",
        "    // Polynomial approximation of degree 5 for\n",
        "    // sin(x * 2 * pi) in the range [-1/4, 1/4]\n",
        "    static float sin5q(float x) {\n",
        "        // A * x + B * x^3 + C * x^5\n",
        "        // Exact at x = 0, 1/12, 1/6, 1/4, and their negatives,\n",
        "        // which correspond to x * 2 * pi = 0, pi/6, pi/3, pi/2\n",
        "        constexpr float A = 6.28230858 f;\n",
        "        constexpr float B = -41.1693687 f;\n",
        "        constexpr float C = 74.4388885 f;\n",
        "        float x2 = x * x;\n",
        "        return x * (A + x2 * (B + x2 * C));\n",
        "    }\n",
        "    float sin(float x) {\n",
        "        constexpr float pi2 = 1 / (2 * 3.1415926535 f);\n",
        "        // Range reduction and mirroring\n",
        "        float x_2 = 0.25 f - x * pi2;\n",
        "        float z = 0.25 f - abs(x_2 - round(x_2));\n",
        "        return sin5q(z);\n",
        "    }\n",
        "    float cos(float x) {\n",
        "        constexpr float pi2 = 1 / (2 * 3.1415926535 f);\n",
        "        // Range reduction and mirroring\n",
        "        float x_2 = x * pi2;\n",
        "        float z = 0.25 f - abs(x_2 - round(x_2));\n",
        "        return sin5q(z);\n",
        "    }\n",
        "    printf(\"hello world\");\n",
        "    return 0;\n",
        "}"
      ]
    },
    {
      "cell_type": "code",
      "source": [
        "%%shell\n",
        "g++ filename.cpp -o output\n",
        "./output"
      ],
      "metadata": {
        "id": "IMxj9aFUrzWC"
      },
      "execution_count": null,
      "outputs": []
    },
    {
      "cell_type": "markdown",
      "source": [
        "# main section"
      ],
      "metadata": {
        "id": "I06tz_C_pGLU"
      }
    },
    {
      "cell_type": "code",
      "execution_count": null,
      "metadata": {
        "tags": [],
        "id": "uYq3mJFaoqxR"
      },
      "outputs": [],
      "source": [
        "import jax.numpy as jnp\n",
        "from numpy import sin, cos, tan, pi\n",
        "import matplotlib.pyplot as plt\n",
        "\n",
        "import stl  # pip install numpy-stl\n",
        "\n",
        "import hexy as hx  #pip install hexy\n",
        "\n",
        "# vPython is only required for visualization code.\n",
        "# If you just want to generate the models, you can disable this.\n",
        "import vpython as vis  # pip install vpython\n",
        "from vpython import vec"
      ]
    },
    {
      "cell_type": "markdown",
      "metadata": {
        "id": "UsvVPjSyoqxU"
      },
      "source": [
        "### Notes:\n",
        "\n",
        "- All spatial dimensions in this notebook are in millimeters unless otherwise specified\n",
        "- The mirror array is assumed to have its base on the $(x,y)$ plane, a distance $y$ from the ground, and is facing the sun which is in the $+z$ direction."
      ]
    },
    {
      "cell_type": "markdown",
      "metadata": {
        "id": "3_cR1LUvoqxV"
      },
      "source": [
        "# Computing the mirror angles"
      ]
    },
    {
      "cell_type": "markdown",
      "metadata": {
        "id": "xlBRJYg7oqxW"
      },
      "source": [
        "The basic idea here is that we have an array of mirrors forming a hexagonal grid. Each mirror is located with its centroid at some point in space, and we want for it to reflect a ray of sunlight to a pixel at some location on the ground (or any other focal plane). Since we know where each mirror is, where each corresponding target is, and where the sun is, we can solve for how each mirror needs to be oriented in 3D space in order to reflect the sunlight onto its corresponding target.\n",
        "\n",
        "Consider just a single mirror and a single target pixel. The center of the mirror has $(x, y, z)$ coordinates located at some vector mirror_pos, and the center of the target pixel is at target_pos. Let's define vectors $\\vec{u}, \\vec{v}$ such that $\\vec u =$mirror_pos - target_pos is the vector pointing from the target to the mirror center, and $\\vec v = \\left(\\sin \\phi, \\cos \\phi \\sin \\theta, \\cos \\phi \\cos \\theta\\right)$ is the vector pointing in the direction of the sun (a point source placed at infinity). Here we're assuming the sun is at an inclination of $\\theta$ from the horizon and that the azimuthal angle relative to the mirror is $latex \\phi$. \n",
        "\n",
        "Since the reflected angles are the same as the incident angles for a mirror, the normal vector $\\hat n$ of the mirror just needs to bisect these two vectors $\\vec u$ and $\\vec v$, so we have that $\\hat n = \\frac{\\vec v}{|| \\vec v ||} - \\frac{\\vec u}{|| \\vec u ||}$:"
      ]
    },
    {
      "cell_type": "markdown",
      "metadata": {
        "id": "cD2RSaIHoqxW"
      },
      "source": [
        "![IMG_0274.png](attachment:b44781d3-3458-4f6a-a2cb-0c896f1a1f9b.png)"
      ]
    },
    {
      "cell_type": "code",
      "execution_count": null,
      "metadata": {
        "id": "XSaOx5qboqxW"
      },
      "outputs": [],
      "source": [
        "def compute_mirror_normal(mirror_pos, target_pos, sun_azimuth_θ, sun_angle_ϕ = 0.0):\n",
        "    \"\"\"Returns a unit normal vector for the mirror to shine light on a target position\"\"\"\n",
        "    \n",
        "    v_target_mirror = mirror_pos - target_pos\n",
        "\n",
        "    θ = sun_azimuth_θ\n",
        "    ϕ = sun_angle_ϕ\n",
        "    v_mirror_sun = np.array([sin(ϕ), cos(ϕ) * sin(θ), cos(ϕ) * cos(θ)])\n",
        "\n",
        "    mirror_normal = normalize(v_mirror_sun) - normalize(v_target_mirror)\n",
        "    return normalize(mirror_normal)\n",
        "    "
      ]
    },
    {
      "cell_type": "markdown",
      "metadata": {
        "id": "eirhIEHuoqxX"
      },
      "source": [
        "# Generating a 3D model of a hexagonal prism"
      ]
    },
    {
      "cell_type": "markdown",
      "metadata": {
        "id": "UiaJtzNtoqxX"
      },
      "source": [
        "A 3D model is just a list of vertices and faces. The vertices are the corners of the polygon (a list of 3D coordinates) and the faces are a list of triangular facets, where each face is specified by tuple containing the indices of three vertices. So to generate the 3D model of the hexagonal prism, I just needed to compute the coordinates for the corners of the prism and the define triangular facets that form the outer faces of the prism.\n",
        "\n",
        "The 3D printed plastic frame of the mirror array is made up of a grid of hexagonal prisms. Each hexagonal prism has its base on the $latex (x,y)$ plane and has a position $latex \\vec p$ specified by the location of the centroid of the top face (coordinate 7 in the left image), which is normal to the vector $latex \\hat n$. To compute the coordinates for the top corners, I computed the intersection of the plane defined by $latex \\vec p, \\vec n$ and the vector pointing vertically from each corner of the base (right image). I then just used a hard-coded list of vertex indices to specify the faces (so, for example, one face is (0,5,6), while another is (5,12,13) when referring to the left image).\n",
        "\n",
        "![image.png](attachment:add31455-e5e9-4b56-af74-09ba2c245a5e.png)"
      ]
    },
    {
      "cell_type": "markdown",
      "metadata": {
        "id": "kbiPz2B3oqxY"
      },
      "source": [
        "Another thing I included in this function was the ability to add a mirror aligner structure to the prism. This mirror aligner is a small protrusion on two sides of the hex prism which fits on a corner of the hexagonal mirrors, which makes it much less tedious to glue hundreds of mirrors to the final structure (right image below). A subtle detail here is that the coordinates of the mirror aligner are not collinear with the coordinates of the top corners of the hex prism: the mirror aligner always needs to make a $120^\\circ$ angle, but if the hex prism has a top surface with a steep slope, the corner angles get distorted. So to compute the coordinates of the mirror aligner, I computed the projection of the x axis onto the plane of the the top of the prism as $\\hat{x}' = \\hat y \\times \\hat n$. Then I rotated this vector about the normal vector $\\hat n$ by increments of $2 \\pi / 6$ to get the corners of the aligner.\n",
        "\n",
        "![image.png](attachment:ec06622f-9a5a-4402-9f31-e83435a9d931.png)"
      ]
    },
    {
      "cell_type": "code",
      "execution_count": null,
      "metadata": {
        "id": "FWBsOhXaoqxY"
      },
      "outputs": [],
      "source": [
        "def intersection_line_plane(p0, p1, p_co, p_no, epsilon=1e-9):\n",
        "    \"\"\"\n",
        "    Copied from https://stackoverflow.com/questions/5666222/3d-line-plane-intersection\n",
        "    \n",
        "    p0, p1: Define the line.\n",
        "    p_co, p_no: define the plane:\n",
        "        p_co Is a point on the plane (plane coordinate).\n",
        "        p_no Is a normal vector defining the plane direction;\n",
        "             (does not need to be normalized).\n",
        "\n",
        "    Return a Vector or None (when the intersection can't be found).\n",
        "    \"\"\"\n",
        "    \n",
        "    def add_v3v3(v0, v1):\n",
        "        return (v0[0] + v1[0], v0[1] + v1[1], v0[2] + v1[2])\n",
        "\n",
        "    def sub_v3v3(v0, v1):\n",
        "        return (v0[0] - v1[0], v0[1] - v1[1], v0[2] - v1[2])\n",
        "\n",
        "    def dot_v3v3(v0, v1):\n",
        "        return ((v0[0] * v1[0]) + (v0[1] * v1[1]) + (v0[2] * v1[2]))\n",
        "\n",
        "    def len_squared_v3(v0):\n",
        "        return dot_v3v3(v0, v0)\n",
        "\n",
        "    def mul_v3_fl(v0, f):\n",
        "        return (v0[0] * f, v0[1] * f, v0[2] * f)\n",
        "\n",
        "    u = sub_v3v3(p1, p0)\n",
        "    dot = dot_v3v3(p_no, u)\n",
        "\n",
        "    if abs(dot) > epsilon:\n",
        "        # The factor of the point between p0 -> p1 (0 - 1)\n",
        "        # if 'fac' is between (0 - 1) the point intersects with the segment.\n",
        "        # Otherwise:\n",
        "        #  < 0.0: behind p0.\n",
        "        #  > 1.0: infront of p1.\n",
        "        w = sub_v3v3(p0, p_co)\n",
        "        fac = -dot_v3v3(p_no, w) / dot\n",
        "        u = mul_v3_fl(u, fac)\n",
        "        return add_v3v3(p0, u)\n",
        "    else:\n",
        "        # The segment is parallel to plane.\n",
        "        return None"
      ]
    },
    {
      "cell_type": "code",
      "execution_count": null,
      "metadata": {
        "id": "Bv_dmdEnoqxZ"
      },
      "outputs": [],
      "source": [
        "def rad_from_deg(deg):\n",
        "    return deg * np.pi / 180\n",
        "\n",
        "def normalize(v):\n",
        "    \"\"\"Normalizes a vector, returning v / ||v||\"\"\"\n",
        "    return v / np.linalg.norm(v)\n",
        "\n",
        "\n",
        "def rotation_matrix(axis, theta):\n",
        "    \"\"\"\n",
        "    Return the rotation matrix associated with counterclockwise rotation about\n",
        "    the given axis by theta radians.\n",
        "    \"\"\"\n",
        "    axis = np.asarray(axis)\n",
        "    axis = axis / np.sqrt(np.dot(axis, axis))\n",
        "    a = cos(theta / 2.0)\n",
        "    b, c, d = -axis * sin(theta / 2.0)\n",
        "    aa, bb, cc, dd = a * a, b * b, c * c, d * d\n",
        "    bc, ad, ac, ab, bd, cd = b * c, a * d, a * c, a * b, b * d, c * d\n",
        "    return np.array([[aa + bb - cc - dd, 2 * (bc + ad), 2 * (bd - ac)],\n",
        "                     [2 * (bc - ad), aa + cc - bb - dd, 2 * (cd + ab)],\n",
        "                     [2 * (bd + ac), 2 * (cd - ab), aa + dd - bb - cc]])"
      ]
    },
    {
      "cell_type": "code",
      "execution_count": null,
      "metadata": {
        "id": "1aFYJ2eHoqxZ"
      },
      "outputs": [],
      "source": [
        "def create_hex_prism(center_pos_vec, normal_vec, triangle_radius, add_mirror_aligners=False, aligner_inner_radius=None, aligner_thickness=0.5):\n",
        "    \"\"\"\n",
        "    Creates a 3D model of a hexagonal prism which can hold a mirror. \n",
        "    Assumptions:\n",
        "    - Base plane is at z=0\n",
        "    - Triangle radius is center-to-corner and points in +/- x direction\n",
        "    \n",
        "    \n",
        "    Args:\n",
        "        center_pos_vec: the centroid of the top of the hexagonal prism\n",
        "        normal_vec: the normal vector of the top face of the prism\n",
        "        triangle_radius: the distance from the center of the bottom base of the prism to one of the bottom corners\n",
        "        add_mirror_aligners: if True, will add protruding structures that help with aligning mirrors when gluing them on\n",
        "        aligner_inner_radius: the distance from the centroid of the top face to the inner edge of the aligner (the radius of your mirror)\n",
        "        aligner_thickness: the thickness of the aligner\n",
        "        \n",
        "    Returns:\n",
        "        A stl mesh for the hexagonal prism\n",
        "    \"\"\"\n",
        "\n",
        "    # Create base vertices\n",
        "    base_center = [center_pos_vec[0], center_pos_vec[1], 0.0]\n",
        "    base_corners = [\n",
        "        base_center + (triangle_radius * (rotation_matrix([0,0,1], θ) @ np.array([1,0,0])))\n",
        "        for θ in 2*pi/6 * np.arange(6)\n",
        "    ]\n",
        "    base_vertices = np.array([base_center, *base_corners])\n",
        "\n",
        "    # Create top vertices \n",
        "    top_center = np.copy(center_pos_vec)\n",
        "    # top_corners = [[v[0], v[1], 1000.0] for v in base_corners]\n",
        "    top_corners = np.array([intersection_line_plane(v, [v[0], v[1], 1000.0], center_pos_vec, normal_vec) for v in base_corners])\n",
        "    top_vertices = np.array([top_center, *top_corners])\n",
        "\n",
        "    # Create the mesh vertices and faces\n",
        "    vertices = np.array([*base_vertices, *top_vertices])\n",
        "    bottom_faces = [\n",
        "        [0,1,2],\n",
        "        [0,2,3],\n",
        "        [0,3,4],\n",
        "        [0,4,5],\n",
        "        [0,5,6],\n",
        "        [0,6,1]\n",
        "    ]\n",
        "    top_faces = [\n",
        "        [7,8,9],\n",
        "        [7,9,10],\n",
        "        [7,10,11],\n",
        "        [7,11,12],\n",
        "        [7,12,13],\n",
        "        [7,13,8]\n",
        "    ]\n",
        "    side_faces = [\n",
        "        [1,9,2],  [1,8,9],\n",
        "        [2,10,3], [2,9,10],\n",
        "        [3,11,4], [3,10,11],\n",
        "        [4,12,5], [4,11,12],\n",
        "        [5,13,6], [5,12,13],\n",
        "        [6,1,8],  [6,13,8]\n",
        "    ]\n",
        "    faces = np.array([*bottom_faces, *top_faces, *side_faces])\n",
        "\n",
        "    # Create the mesh\n",
        "    hex_prism = stl.mesh.Mesh(np.zeros(faces.shape[0], dtype=stl.mesh.Mesh.dtype))\n",
        "    for i, face in enumerate(faces):\n",
        "        for j in range(3):\n",
        "            hex_prism.vectors[i][j] = vertices[face[j],:]\n",
        "            \n",
        "    # Add alignment ridges to place mirrors into\n",
        "    if add_mirror_aligners:\n",
        "        if aligner_inner_radius is None:\n",
        "            raise ValueError(\"Need to specify alignemnt radius!\")\n",
        "            \n",
        "        aligner_outer_radius = aligner_inner_radius + aligner_thickness\n",
        "        if aligner_outer_radius > triangle_radius:\n",
        "            raise ValueError(\"Aligner thickness plus width too large!\")\n",
        "            \n",
        "        # Create base vertices\n",
        "        aligner_center = np.copy(center_pos_vec)\n",
        "        x_plus_on_face = normalize(np.cross(np.array([0,1,0]), normal_vec))\n",
        "        aligner_inner_corners = [\n",
        "            aligner_center + aligner_inner_radius * (rotation_matrix(normal_vec, θ) @ x_plus_on_face)\n",
        "            for θ in 2*pi/6 * np.array([-1,0,1])\n",
        "        ]\n",
        "        aligner_outer_corners = [\n",
        "            aligner_center + aligner_outer_radius * (rotation_matrix(normal_vec, θ) @ x_plus_on_face)\n",
        "            for θ in 2*pi/6 * np.array([-1,0,1])\n",
        "        ]\n",
        "        aligner_bottom_vertices = np.array([*aligner_inner_corners, *aligner_outer_corners])\n",
        "        \n",
        "        unit_normal_vec = normal_vec / np.linalg.norm(normal_vec)\n",
        "        aligner_top_vertices = aligner_bottom_vertices + (aligner_thickness * unit_normal_vec)\n",
        "        \n",
        "        aligner_vertices = np.array([*aligner_bottom_vertices, *aligner_top_vertices])\n",
        "        aligner_bottom_faces = [\n",
        "            [0,1,3],\n",
        "            [3,1,4],\n",
        "            [1,2,5],\n",
        "            [1,5,4]\n",
        "        ]\n",
        "        aligner_top_faces = list(np.array(aligner_bottom_faces) + 6)\n",
        "        aligner_side_faces = [\n",
        "            [8,2,11],\n",
        "            [2,11,5],\n",
        "            [8,2,7],\n",
        "            [2,1,7],\n",
        "            [1,7,0],\n",
        "            [7,6,0],\n",
        "            [0,6,9],\n",
        "            [0,3,9],\n",
        "            [3,9,10],\n",
        "            [3,4,10],\n",
        "            [4,10,5],\n",
        "            [10,5,11]\n",
        "        ]\n",
        "        aligner_faces = np.array([*aligner_bottom_faces, *aligner_top_faces, *aligner_side_faces])\n",
        "        # Create the mesh\n",
        "        aligner_mesh = stl.mesh.Mesh(np.zeros(aligner_faces.shape[0], dtype=stl.mesh.Mesh.dtype))\n",
        "        for i, face in enumerate(aligner_faces):\n",
        "            for j in range(3):\n",
        "                aligner_mesh.vectors[i][j] = aligner_vertices[face[j],:]\n",
        "       \n",
        "        # Fuse with hex prism\n",
        "        hex_prism = fuse_models([hex_prism, aligner_mesh])\n",
        "            \n",
        "    return hex_prism\n",
        "\n",
        "def fuse_models(models):\n",
        "    \"\"\"Fuses together a list of 3D models by concatenating their vertices and faces\"\"\"\n",
        "    all_data = np.concatenate([model.data.copy() for model in models])\n",
        "    return stl.mesh.Mesh(all_data)"
      ]
    },
    {
      "cell_type": "markdown",
      "metadata": {
        "id": "-_1VLA8aoqxa"
      },
      "source": [
        "# Generating a hexagonal grid of prisms"
      ]
    },
    {
      "cell_type": "code",
      "execution_count": null,
      "metadata": {
        "id": "zyb8mr66oqxb"
      },
      "outputs": [],
      "source": [
        "def get_hex_grid_centers(num_hexes_radius, mini_hex_radius):\n",
        "    \"\"\"Creates a large hexagonal grid of mini-hexagons. Returns the 2D xy centerpoint for each hexagon.\n",
        "    Args:\n",
        "        num_hexes_radius: the radius of the hexagonal grid. A single point is R=1, seven points is R=2, 19 points is R=3, etc.\n",
        "        mini_hex_radius: the radius of one of the hexagons in the grid (the radius of the hexagonal prisms)\n",
        "    \"\"\"\n",
        "    coords = hx.get_spiral(np.array((0, 0, 0)), 1, num_hexes_radius) # The center is in hexagonal, \"fake\", xyz cubic coordinates\n",
        "    x, y = hx.cube_to_pixel(coords, mini_hex_radius).T\n",
        "    centers = np.array([y, x]).T\n",
        "    return centers\n",
        "\n",
        "def mirror_pos_from_xy_base(center, center_height=20, distance_scaling=0.0, x_offset=0.0, y_offset=0.0):\n",
        "    \"\"\"Converts xy coordinates of a hexagonal base to the xyz coordinates of mirror centers\n",
        "    Args:\n",
        "        center: the center xy coordinate of the base\n",
        "        center_height: the height of the centermost prism\n",
        "        distance_scaling: prisms a radius r from the center will have their heigh adjusted by distance_scaling * r amount\n",
        "        x_offset: shift all prisms by this amount on x axis\n",
        "        y_offset: shift all prisms by this amount on y axis\n",
        "    \"\"\"\n",
        "    distance_from_center = np.linalg.norm(center)\n",
        "    height = center_height + distance_scaling * distance_from_center\n",
        "    center_vec = np.array([center[0] + x_offset, center[1] + y_offset, height])\n",
        "    return center_vec\n",
        "\n",
        "def make_hex_prism_grid(mirror_positions, mirror_normals, mini_hex_radius, add_mirror_aligners=True, x_offset=0.0, y_offset=0.0, verbose=True, no_fuse_models=False):\n",
        "    \"\"\"Makes a grid of hexagonal prisms given a list of mirror positions and corresponding normal vectors\n",
        "    Args:\n",
        "        mirror_positions: xyz coordinates of the mirror centroids\n",
        "        mirror_normals: normal vector for each mirror\n",
        "        mini_hex_radius: radius of each of the hexagonal prisms in the grid\n",
        "        no_fuse_models: if True, a list of hexagonal prisms meshes will be returned instead of a single fused model (useful for partitioning)\n",
        "    \"\"\"\n",
        "    all_prisms = []\n",
        "    for mirror_pos, mirror_normal in zip(mirror_positions, mirror_normals):\n",
        "        hex_prism = create_hex_prism(mirror_pos, mirror_normal, mini_hex_radius, add_mirror_aligners=add_mirror_aligners, aligner_inner_radius=mini_hex_radius-1.0, aligner_thickness=1.0)\n",
        "        all_prisms.append(hex_prism)\n",
        "    if verbose:\n",
        "        print(\"Created model with {} hex prisms\".format(len(all_prisms)))\n",
        "    if no_fuse_models:\n",
        "        return all_prisms\n",
        "    else:\n",
        "        return fuse_models(all_prisms)"
      ]
    },
    {
      "cell_type": "code",
      "execution_count": null,
      "metadata": {
        "id": "y3WcHJmJoqxb"
      },
      "outputs": [],
      "source": [
        "coords = hx.get_spiral(np.array((0, 0, 0)), 1, 3)\n",
        "x, y = hx.cube_to_pixel(coords, 1).T\n",
        "points = np.array([y, x]).T"
      ]
    },
    {
      "cell_type": "code",
      "execution_count": null,
      "metadata": {
        "id": "aw92oSS9oqxb"
      },
      "outputs": [],
      "source": [
        "def plot_hex_points(points, num=len(points)):\n",
        "    # Test visualize\n",
        "    plt.scatter(points.T[0][0:num], points.T[1][0:num])\n",
        "    plt.axis(\"equal\")\n",
        "    plt.show()\n",
        "    \n",
        "plot_hex_points(points)"
      ]
    },
    {
      "cell_type": "markdown",
      "metadata": {
        "id": "iBfy89p2oqxb"
      },
      "source": [
        "# Test: aligning the mirrors to a single point in 3D space\n",
        "\n",
        "This will create a $R=2$ hexagonal grid with all mirrors aligned to a common focal point. You can open the output model in Cura (or whatever slicing program you use) and re-run this function to see how the mirrors will change when you move the point around."
      ]
    },
    {
      "cell_type": "code",
      "execution_count": null,
      "metadata": {
        "id": "4Ysv388Coqxc"
      },
      "outputs": [],
      "source": [
        "target_pos = np.array([0, 0, 40]) # the common focal point\n",
        "\n",
        "θ = np.deg2rad(0) # This is the angle with respect to the XY plane, normal to the overall structure\n",
        "ϕ = np.deg2rad(0)\n",
        "\n",
        "grid_hex_radius = 2\n",
        "mini_hex_radius = 10\n",
        "\n",
        "hex_centers = get_hex_grid_centers(grid_hex_radius, mini_hex_radius)\n",
        "mirror_positions = [mirror_pos_from_xy_base(center, center_height=20, distance_scaling=.2) for center in hex_centers]\n",
        "mirror_normals = [compute_mirror_normal(mirror_pos, target_pos, θ, ϕ) for mirror_pos in mirror_positions]\n",
        "\n",
        "hex_prism_grid = make_hex_prism_grid(mirror_positions, mirror_normals, mini_hex_radius * .9)\n",
        "\n",
        "\n",
        "base_positions = [mirror_pos_from_xy_base(center, center_height=5, distance_scaling=0) for center in hex_centers]\n",
        "base_normals = np.tile(np.array([0,0,1]), (len(hex_centers),1))\n",
        "hex_prism_bases = make_hex_prism_grid(base_positions, base_normals, mini_hex_radius * 1.1, add_mirror_aligners=False)\n",
        "\n",
        "hex_prism_grid_combined = fuse_models([hex_prism_grid, hex_prism_bases])\n",
        "\n",
        "hex_prism_grid_combined.save(\"stl/hex_prism_grid_single_focus.stl\")"
      ]
    },
    {
      "cell_type": "markdown",
      "metadata": {
        "id": "5MFTG8LKoqxc"
      },
      "source": [
        "# Formatting coordinates for an image "
      ]
    },
    {
      "cell_type": "markdown",
      "metadata": {
        "id": "RWxqQuxioqxc"
      },
      "source": [
        "This section generates and formats the set of 2D coordinates that define the image you would like to project, and can transform them to 3D coordinates on the focal plane.\n",
        "\n",
        "## Notes:\n",
        "\n",
        "- I extracted the coordinates that I used to form the image by using the coordinate picker tool in Mathematica. However, you can also use an online image coordinate picker tool like this: [https://www.mobilefish.com/services/record_mouse_coordinates/record_mouse_coordinates.php](https://www.mobilefish.com/services/record_mouse_coordinates/record_mouse_coordinates.php)\n",
        "- You will need to format the coordinates as a 2D Python list\n",
        "- All coordinates are assumed to be in millimeters, you will need to rescale them to the desired size of the projected image\n",
        "- IMPORTANT: you need to horizontally mirror the image you would like to project!"
      ]
    },
    {
      "cell_type": "code",
      "execution_count": null,
      "metadata": {
        "id": "tuybP6-2oqxc"
      },
      "outputs": [],
      "source": [
        "# Pasted from mathematica output\n",
        "coords = [[749.67, 438.1], [1204.75, 469.56], [546.35, 438.88], [1275.28, 832.91], [1017.78, 833.74], [647.6295776367188, 799.1300964355469], [724.099609375, 799.9089050292969], [266.5836181640625, 817.9267272949219], [472.28, 825.59], [749.72, 380.21], [545.87, 382.16], [452.72, 854.7], [286.96, 853.25], [715., 402.43], [268.17, 763.19], [566.45, 435.89], [728.47, 434.11], [1216.48, 375.58], [1187.9737548828125, 256.1741943359375], [1195.5775146484375, 256.1741943359375], [1192.04, 263.91], [1190.316650390625, 319.66131591796875], [1190.37, 339.86], [1200.08, 360.98], [1232.17, 392.32], [1242.01, 414.51], [1240.2, 442.8], [1226.76, 460.95], [1179.57, 470.69], [1158.2, 461.2], [1144.78, 446.96], [1138.196044921875, 426.24267578125], [897.4918823242188, 418.1148681640625], [926.57, 467.27], [960.62, 466.59], [993.49, 467.39], [927.3, 366.3], [956.21, 365.58], [993.6444091796875, 257.5711669921875], [958.5223388671875, 257.8609619140625], [924.378173828125, 258.04620361328125], [898.84, 282.62], [898.1, 310.38], [896.8499755859375, 340.74298095703125], [897.62, 392.57], [897.430908203125, 443.7537841796875], [898.8089599609375, 366.19598388671875], [1019.248291015625, 465.7032470703125], [988.32, 367.04], [1022.5699462890625, 257.55078125], [898.09, 257.23], [897.6317138671875, 467.7864990234375], [545.9, 412.09], [578.06, 406.69], [471.71, 759.91], [749.8, 410.35], [749.28, 348.51], [697.87, 364.76], [595.89, 369.18], [545.29, 351.59], [544.24755859375, 320.94464111328125], [615.7874755859375, 323.77764892578125], [677.2498168945312, 322.1021728515625], [749.7682495117188, 321.30474853515625], [750.0340576171875, 286.13226318359375], [661.3663940429688, 288.0025634765625], [633.14208984375, 288.0025634765625], [544.21484375, 286.75433349609375], [751.0889892578125, 255.06298828125], [745.34, 465.11], [647.705078125, 257.4637451171875], [548.85, 467.3], [545.132568359375, 254.5081787109375], [1484.33, 806.92], [1433.8072509765625, 805.7794647216797], [1459.27, 692.7], [1458.76, 719.32], [1457.575439453125, 745.1332092285156], [1397.06, 866.63], [1408.35, 846.25], [1421.2, 825.46], [1446.67, 784.15], [1469.96, 785.14], [1497.03, 828.66], [1508.74, 848.17], [1520.617919921875, 869.9008636474609], [1458.5758056640625, 766.6499633789062], [1530.668212890625, 884.5923004150391], [1384.2706298828125, 883.6441497802734], [1458.09423828125, 671.2614135742188], [1185.76, 882.84], [1223.1552734375, 882.6755676269531], [1251.27, 875.17], [1270.83, 857.79], [1268.17431640625, 805.2270812988281], [1245.04, 787.51], [1181.78, 781.8], [1211.3526611328125, 781.2495880126953], [1226.75, 754.47], [1244.0364990234375, 725.6549987792969], [1261.5723876953125, 697.1242370605469], [1277.6258544921875, 671.0181884765625], [1155.409912109375, 672.613037109375], [1155.4261474609375, 704.9848327636719], [1155.4664306640625, 730.7848815917969], [1155.3052978515625, 756.4649353027344], [1155.66796875, 781.4039306640625], [1155.81, 807.5], [1154.74, 834.85], [1154.44, 860.99], [1154.1702880859375, 883.5802764892578], [897.8416748046875, 804.0701904296875], [897.5758666992188, 833.1923522949219], [897.0039672851562, 861.1928863525391], [922.34, 882.96], [955.9832153320312, 883.3663787841797], [985.98, 879.14], [1010.79, 862.27], [1012.2882080078125, 805.221923828125], [987.794921875, 786.5226898193359], [925.7581787109375, 781.9527893066406], [897.406982421875, 756.2396545410156], [968.6502685546875, 757.0301513671875], [986.75, 729.44], [897.3654174804688, 732.0417785644531], [897.139892578125, 698.6778564453125], [1003.6195068359375, 698.6194152832031], [955.4535522460938, 782.1603088378906], [898.4556884765625, 781.937255859375], [897.9386596679688, 882.872314453125], [1021.3914794921875, 670.7004699707031], [898.5322875976562, 671.0590209960938], [651.59, 734.93], [717.95, 734.58], [762.74, 703.86], [605.9717407226562, 703.7068481445312], [634.17, 767.06], [735.34, 769.67], [712.33, 830.17], [660.43, 828.6], [671.5, 851.59], [702.06005859375, 853.2278900146484], [749.8562622070312, 736.0979309082031], [621.53, 736.07], [685.41, 735.23], [685.58, 879.34], [776.983154296875, 672.78271484375], [593.150146484375, 671.5205993652344], [268.43, 700.08], [349.78631591796875, 709.9300231933594], [389.09, 710.53], [471.39, 705.05], [471.59, 731.2], [402.43, 746.08], [334.43, 747.92], [267.55, 731.3], [266.57, 851.98], [301.76, 822.9], [439.2, 827.33], [470.74, 853.1], [471.35, 791.46], [422.74, 789.53], [316.13, 789.57], [267.87, 791.82], [471.3092041015625, 673.2996826171875], [469.02, 882.34], [369.4679870605469, 675.087646484375], [270.44, 881.96], [267.99627685546875, 670.501220703125]]\n",
        "coords = np.array(coords)\n",
        "\n",
        "coords -= np.array([900,550])\n",
        "coords *= 120 / 1200 # width of about 48 inches\n",
        "coords *= 10 # cm to mm\n",
        "\n",
        "coords *= np.array([-1,1]) # IMPORTANT: need to mirror the array!\n",
        "\n",
        "print(coords.shape)\n",
        "\n",
        "plt.figure(figsize=(12,8))\n",
        "plt.scatter(coords.T[0], coords.T[1])\n",
        "plt.show()"
      ]
    },
    {
      "cell_type": "code",
      "execution_count": null,
      "metadata": {
        "id": "BhIvs32eoqxc"
      },
      "outputs": [],
      "source": [
        "coords_heart = [[599.4664306640625, 119.61083984375], [683.27, 190.94], [512.4031982421875, 192.084716796875], [1101.1800537109375, 620.8414306640625], [1133.19, 796.36], [66., 790.18], [105.59696960449219, 601.76708984375], [201.69, 473.63], [1006.43, 481.81], [1090.34, 965.27], [101.91, 954.78], [536.77880859375, 1007.7824401855469], [656.955078125, 1004.5348815917969], [724., 1055.37], [482.96, 1051.51], [407.31, 1082.43], [791.62, 1080.77], [969.3441162109375, 1067.0575714111328], [218.079345703125, 1061.4600219726562], [154.13, 1019.47], [1030.3, 1030.55], [1124.528564453125, 704.10302734375], [76.73, 689.26], [416.39, 281.09], [770.11, 268.22], [336.1, 349.31], [862.73, 349.14], [936.64, 413.03], [267.752685546875, 407.59344482421875], [146.53, 537.92], [1061.13, 546.2], [1127.97, 874.39], [71.11, 869.47], [307.07, 1087.15], [880.68, 1088.85], [600.4229736328125, 931.498046875], [599.6448974609375, 112.80242919921875]]\n",
        "coords_heart = np.array(coords_heart)\n",
        "\n",
        "coords_heart -= np.array([600,600])\n",
        "coords_heart *= 15 / 500\n",
        "coords_heart *= 10 # cm to mm\n",
        "\n",
        "print(coords_heart.shape)\n",
        "\n",
        "plt.figure(figsize=(12,8))\n",
        "plt.scatter(coords_heart.T[0], coords_heart.T[1])\n",
        "plt.show()"
      ]
    },
    {
      "cell_type": "code",
      "execution_count": null,
      "metadata": {
        "id": "mNlIMaztoqxd"
      },
      "outputs": [],
      "source": [
        "focal_plane_default = 6 * 304.8 # 6 feet in mm\n",
        "\n",
        "vertical_distance_default = 46 * 25.4 # 46 inch in mm\n",
        "horizontal_distance_default = 46 * 25.4 # 46 inch in mm\n",
        "        \n",
        "def create_target_positions_wall(target_coordinates, depth = focal_plane_default):\n",
        "    \"\"\"Converts a list of xy target coordinates into a list of xyz target positions, assuming you are projecting against a vertical wall at a specified focal distance.\"\"\"\n",
        "    target_positions = np.array([[c[0], c[1], depth] for c in target_coordinates])\n",
        "    return target_positions\n",
        "\n",
        "def create_target_positions_ground(target_coordinates, \n",
        "                                   vertical_distance=vertical_distance_default, \n",
        "                                   horizontal_distance=horizontal_distance_default):\n",
        "    \"\"\"Converts a list of xy target coordinates into a list of xyz target positions, assuming you are projecting against the ground as the focal plane, at a specified horizontal distance and vertical distance from the focal plane.\"\"\"\n",
        "    target_positions = np.array([[c[0], -1 * vertical_distance, c[1] + horizontal_distance] for c in target_coordinates])\n",
        "    return target_positions"
      ]
    },
    {
      "cell_type": "markdown",
      "metadata": {
        "id": "UHtdrp8roqxd"
      },
      "source": [
        "# Aligning the mirrors to a set of 3D points"
      ]
    },
    {
      "cell_type": "markdown",
      "metadata": {
        "id": "pAJ4EI_ooqxd"
      },
      "source": [
        "One of the more interesting problems to solve in this project was how to optimally match target light spots to corresponding mirrors to maximize the focal distance tolerance. (So that you can hold the structure at a slightly incorrect distance or orientation from the focal plane and it will still reflect a legible message.) \n",
        "\n",
        "The mirror array will project a set of rays onto the focal plane to form an image, and when the structure is placed at exactly the right angle and distance from the focal plane, the image will (in theory) be exactly what you want it to be. But if you deviate from this height or angle, the image will slightly deform. However, you can mitigate this by making the rays as parallel as possible, so as to minimize any times where rays will cross each other before the focal plane.\n",
        "\n",
        "Consider the following scenario in the figure below. There are four mirrors projecting light rays onto four targets which form a diamond formation when placed at the proper focal distance. On the left side, two of the rays will cross each other, while on the right side, the rays are closer to parallel and do not cross. If you move the focal plane relative to the mirror array, the left image will distort, becoming vertically squished, while the right image does not significantly distort (the points remain in the same relative configuration).\n",
        "\n",
        "![IMG_0279.png](attachment:9fb2b001-675a-4aeb-bd54-19338c7a20db.png)\n",
        "\n",
        "So we want to match the target points with corresponding mirrors so that the rays are as parallel as possible and minimal crossings occur. How should we do this? An early approach I took was to iterate over the mirrors and greedily assign each target to the mirror which minimizes the angle of incidence (so, minimizing the inner product of $\\vec{n} \\cdot \\vec{u}$). However, this approach didn't work as well as I had hoped because it only considered the magnitude of this inner product rather than the direction of the reflected light beam. You can see some of the distortion in the early test prints of the heart mirrors in the next section, which used this initial matching algorithm. (Although some of that distortion was also due to poor adhesion to the print bed.)\n",
        "\n",
        "The algorithm I ended up settling on is inspired by the structure of the hexagonal grid itself. A hexagonal grid with radius of $R$ hexagons has a number $n_R = 1 + \\sum_{r=1}^R 6 \\left(r-1\\right)$ of mirrors. So there's one mirror at the center ($R=1$), and after that, 6 mirrors in the innermost ring ($R=2$), 12 mirrors in the next ring, then 18, and so on. To minimize ray crossings, I computed the center of mass of the target pixel coordinates, then grouped the coordinates into bins based on their distance from the center of mass, where each bin has a size equal to the number of mirrors in that ring. So the centermost target pixel gets assigned to the center mirror, then the 6 other pixels closest to the center gets assigned to the first ring, and so on. Within each bin, I ordered the target coordinates clockwise starting from the bottom coordinate, and I assigned the target to the mirrors iterated in the same order. So the outermost ring of mirrors corresponds to the outermost ring of targets, and within this set of targets, the bottom target gets assigned to the bottom mirror, the leftmost target gets assigned to the leftmost mirror, etc., as shown in the figure below.\n",
        "\n",
        "![IMG_0280.png](attachment:fda426eb-0981-452a-b3ff-013a7ea5bd25.png)\n",
        "\n",
        "This matching algorithm ended up working quite well. (And I do love matching algorithms...) Here is a side by side comparison of the rays which form the \"MARRY ME?\" message when assigned to mirrors randomly (left) versus when assigned using this matching algorithm (right). You can see that the rays are much more parallel. This means that the mirror array can be held within a much wider tolerance of the correct distance from the focal plane while still projecting the message legibly.\n",
        "\n",
        "![sidebyside.jpg](attachment:77ef43fc-900d-4eba-83ca-228bd7f36bd4.jpg)"
      ]
    },
    {
      "cell_type": "code",
      "execution_count": null,
      "metadata": {
        "id": "Z5Kn8JCroqxd"
      },
      "outputs": [],
      "source": [
        "first_few_hex_numbers = [1 + sum(6 * (r-1) for r in range(1, radius+1)) for radius in range(1, 100)]\n",
        "first_few_hex_circumferences = [1] + [6 * r for r in range(1,100)]\n",
        "\n",
        "def is_hexagonal_number(n):\n",
        "    # This is the really janky way of doing this but whatever ¯\\_(ツ)_/¯\n",
        "    return n in first_few_hex_numbers\n",
        "\n",
        "def get_hex_radius(n):\n",
        "    assert is_hexagonal_number(n), \"must be a hex number!\"\n",
        "    return first_few_hex_numbers.index(n)\n",
        "\n",
        "def divide_hex_grid_in_quarters(points):\n",
        "    \"\"\"Partitions a hexagonal grid into quarters. Returns a list of partition indices for each point.\"\"\"\n",
        "    points = np.array(points)\n",
        "    # Divide into quarters\n",
        "    partition_indices = np.zeros(len(points))\n",
        "    for i, point in enumerate(points):\n",
        "        x, y, z = point\n",
        "        if x >= 0 and y >= 0:\n",
        "            partition_indices[i] = 0\n",
        "        elif x >= 0 and y < 0:\n",
        "            partition_indices[i] = 1\n",
        "        elif x < 0 and y >= 0:\n",
        "            partition_indices[i] = 2\n",
        "        else:\n",
        "            partition_indices[i] = 3\n",
        "    return partition_indices\n",
        "\n",
        "def divide_hex_grid_flower(points, hex_radius=None):\n",
        "    \"\"\"Partitions a hexagonal grid into a flower pattern (this is what I used for the final product. Returns a list of partition indices for each point.\"\"\"\n",
        "    if hex_radius is None: # copied from build_mirror_array()\n",
        "        mini_hex_radius = (10 * 2.5 / 2) + 1 \n",
        "        hex_radius = mini_hex_radius * 1.1\n",
        "    points = np.array(points)\n",
        "    # Divide into quarters\n",
        "    partition_indices = np.ones(len(points)) * -1\n",
        "    for i, point in enumerate(points):\n",
        "        x, y, z = point\n",
        "        if np.sqrt(x**2 + y**2) <= 3 * (2*hex_radius + 1) * np.sqrt(3)/2:\n",
        "            partition_indices[i] = 0\n",
        "        else:\n",
        "            θ = np.arctan2(x,y) + pi - 1e-10\n",
        "            partition_indices[i] = 1 + np.floor(6 * θ / (2 * pi))\n",
        "    return partition_indices\n",
        "\n",
        "def partition_and_save_models(hex_prisms, base_prisms, partition_indices, filename = \"hex_prism_grid.stl\"):\n",
        "    \"\"\"Returns a list of fused sub-volumes which can be individually printed\n",
        "    \n",
        "    Args:\n",
        "        hex_prisms: the hexagonal pillars of the model which hold the mirorrs\n",
        "        base_prisms: the bottom hexagonal bases of each pillar which overlap to form a single base \n",
        "        partition_indices: for each hex_prism and base_prism, an index indicating which sub-volume they belong to\n",
        "    \"\"\"\n",
        "    num_sections = len(set(partition_indices))\n",
        "    for section in range(num_sections):\n",
        "        base_prisms_section = [base for (i, base) in enumerate(base_prisms) if partition_indices[i]==section]\n",
        "        hex_prisms_section = [hex_prism for (i, hex_prism) in enumerate(hex_prisms) if partition_indices[i]==section]\n",
        "        hex_prism_grid_section_combined = fuse_models([*hex_prisms_section, *base_prisms_section])\n",
        "        section_filename = filename[0:-4] + \"_section{}\".format(section) + filename[-4:]\n",
        "        hex_prism_grid_section_combined.save(\"stl/\" + section_filename)  "
      ]
    },
    {
      "cell_type": "code",
      "execution_count": null,
      "metadata": {
        "id": "GoM4W3EUoqxd"
      },
      "outputs": [],
      "source": [
        "def sort_by_predicate(arr, predicate):\n",
        "    '''Sort a numpy array by a predicate (along axis=0) because for some reason this isn't a standard method'''\n",
        "    l = list(arr)\n",
        "    l.sort(key=lambda element: predicate(element))\n",
        "    return np.array(l)\n",
        "\n",
        "\n",
        "def build_mirror_array(target_coordinates, filename = \"hex_prism_grid.stl\", depth = focal_plane_default, divider_function=None, use_ground_target=False):\n",
        "    \"\"\"Builds an array of mirrors to focus on a list of target coordinates and saves the model (or partitioned models) as .stl file(s)\n",
        "    \n",
        "    Args:\n",
        "        target_coordinates: the xy coordinates of the target image\n",
        "        filename: the filename (or filename pattern) to save the output file(s) as\n",
        "        depth: the depth of the focal plane\n",
        "        divider_function: if specified, how to divide up the 3D printed model into subvolumes\n",
        "        use_ground_target: if True, will project onto the ground (see create_target_positions_ground() above); otherwise will project onto a wall\n",
        "        \n",
        "    Returns:\n",
        "        Lists of respective mirror positions, mirror normals, and corresponding target positions for each mirror\n",
        "    \"\"\"\n",
        "    \n",
        "    assert is_hexagonal_number(len(target_coordinates)), \"coordinates must have hex number of targets!\"\n",
        "    \n",
        "    # New sorting scheme:\n",
        "    # 1. Group target coords into hex-number sized buckets based on the distance from the center of mass\n",
        "    # 2. Sort target coords in each bucket based on angle from vertical-down\n",
        "    # 3. Match each point to the corresponding mirror in that radius\n",
        "    target_coords_by_bucket = []\n",
        "    center_of_mass = np.mean(target_coordinates, axis=0)\n",
        "    target_coords_sorted_by_radius = sort_by_predicate(target_coordinates, lambda c: np.linalg.norm(c - center_of_mass))\n",
        "    \n",
        "    # group target coords by radius into bins\n",
        "    r_hex = get_hex_radius(len(target_coordinates))\n",
        "    target_coords_grouped_by_radius = np.split(target_coords_sorted_by_radius, first_few_hex_numbers[0:r_hex])\n",
        "\n",
        "    # computes the COUNTERCLOCKWISE angle from the bottom. necessary because mirrors are enumerate counterclockwise.\n",
        "    def angle_from_bottom(coord):\n",
        "        line_from_com = coord - center_of_mass\n",
        "        x, y = line_from_com\n",
        "        angle_from_bottom = -1 * (np.arctan2(x,y) - pi - 1e-10)\n",
        "        return angle_from_bottom\n",
        "    \n",
        "    # sort each bin by angle from bottom and append to master list\n",
        "    target_coordinates_sorted = []\n",
        "    for target_coords_in_bin in target_coords_grouped_by_radius:\n",
        "        target_coords_sorted_by_angle = sort_by_predicate(target_coords_in_bin, lambda c: angle_from_bottom(c))\n",
        "        target_coordinates_sorted += list(target_coords_sorted_by_angle)\n",
        "    target_coordinates_sorted = np.array(target_coordinates_sorted)\n",
        "    \n",
        "    if use_ground_target:\n",
        "        target_positions_sorted = create_target_positions_ground(target_coordinates_sorted)\n",
        "    else:\n",
        "        target_positions_sorted = create_target_positions_wall(target_coordinates_sorted, depth=depth)\n",
        "\n",
        "    θ = np.deg2rad(10) # This is the angle with respect to the XY plane, normal to the overall structure\n",
        "    ϕ = np.deg2rad(0)\n",
        "    \n",
        "    v_sun = np.array([sin(ϕ), cos(ϕ) * sin(θ), cos(ϕ) * cos(θ)])\n",
        "\n",
        "    grid_hex_radius = first_few_hex_numbers.index(len(target_positions_sorted))\n",
        "    assert grid_hex_radius >= 1\n",
        "    \n",
        "    mini_hex_radius = (10 * 2.5 / 2) + 1 # +1 for aligner\n",
        "    hex_base_radius = mini_hex_radius * 1.1\n",
        "\n",
        "    hex_centers = get_hex_grid_centers(grid_hex_radius, hex_base_radius)\n",
        "        \n",
        "    mirror_positions = [mirror_pos_from_xy_base(center, center_height=24, distance_scaling=-.07) for center in hex_centers]\n",
        "\n",
        "    # # OLD ALGORITHM: Sort the target positions so that each mirror has (greedily) the closest target position\n",
        "    # remaining_target_positions = copy.deepcopy(target_positions)\n",
        "    # target_positions_sorted = []\n",
        "    # for mirror_pos in mirror_positions: \n",
        "    #     possible_normal_vecs = [compute_mirror_normal(mirror_pos, target_pos, θ, ϕ) for target_pos in remaining_target_positions]\n",
        "    #     alignments = [np.abs(v_sun @ v_normal) for v_normal in possible_normal_vecs]\n",
        "    #     best_alignment_index = np.argmax(alignments)\n",
        "    #     target_positions_sorted.append(remaining_target_positions[best_alignment_index])\n",
        "    #     remaining_target_positions = np.delete(remaining_target_positions, best_alignment_index, 0)    \n",
        "        \n",
        "    mirror_normals = [compute_mirror_normal(mirror_pos, target_pos, θ, ϕ) for mirror_pos, target_pos in zip(mirror_positions, target_positions_sorted)]\n",
        "\n",
        "    base_positions = [mirror_pos_from_xy_base(center, center_height=5, distance_scaling=0) for center in hex_centers]\n",
        "    base_normals = np.tile(np.array([0,0,1]), (len(hex_centers),1))\n",
        "    \n",
        "    if divider_function is not None:\n",
        "        partition_indices = divider_function(mirror_positions)\n",
        "        hex_prisms = make_hex_prism_grid(mirror_positions, mirror_normals, mini_hex_radius, add_mirror_aligners=True, no_fuse_models=True)\n",
        "        base_prisms = make_hex_prism_grid(base_positions, base_normals, hex_base_radius * 1.01, add_mirror_aligners=False, no_fuse_models=True)\n",
        "        partition_and_save_models(hex_prisms, base_prisms, partition_indices, filename=filename)\n",
        "    else:\n",
        "        hex_prism_grid = make_hex_prism_grid(mirror_positions, mirror_normals, mini_hex_radius, add_mirror_aligners=True)\n",
        "        base_grid = make_hex_prism_grid(base_positions, base_normals, hex_base_radius * 1.01, add_mirror_aligners=False)\n",
        "        hex_prism_grid_combined = fuse_models([hex_prism_grid, base_grid])\n",
        "        hex_prism_grid_combined.save(\"stl/\" + filename)\n",
        "    \n",
        "    return mirror_positions, mirror_normals, target_positions_sorted"
      ]
    },
    {
      "cell_type": "code",
      "execution_count": null,
      "metadata": {
        "id": "Mfc4vTp9oqxe"
      },
      "outputs": [],
      "source": [
        "# Generate a small test structure to project a heart on a wall\n",
        "mirror_positions, mirror_normals, target_positions = build_mirror_array(coords_heart, depth=focal_plane_default, filename=\"mirror_array_heart_wall.stl\")\n",
        "\n",
        "# Generate a small test structure to project a heart on the ground\n",
        "mirror_positions, mirror_normals, target_positions = build_mirror_array(coords_heart, use_ground_target=True, filename=\"mirror_array_heart.stl\")"
      ]
    },
    {
      "cell_type": "code",
      "execution_count": null,
      "metadata": {
        "id": "AfDpmebQoqxe"
      },
      "outputs": [],
      "source": [
        "# To generate the final 3D model and use the partitioning scheme:\n",
        "mirror_positions, mirror_normals, target_positions = build_mirror_array(coords, use_ground_target=True, filename=\"mirror_array.stl\", divider_function=divide_hex_grid_flower)\n",
        "\n",
        "# To generate the final 3D model without dividing it into subvolumes:\n",
        "mirror_positions, mirror_normals, target_positions = build_mirror_array(coords, use_ground_target=True, filename=\"mirror_array_single_piece.stl\", divider_function=None)"
      ]
    },
    {
      "cell_type": "code",
      "execution_count": null,
      "metadata": {
        "id": "0B3VUkiBoqxe"
      },
      "outputs": [],
      "source": [
        "# This demonstrates the order of the sorted target positions with corresponding mirrors. \n",
        "# Purple dots correspond to the innermost mirrors, red to the outermost.\n",
        "plt.scatter(target_positions[:,0], target_positions[:,2], c=np.arange(len(target_positions)), cmap=\"rainbow\")\n",
        "plt.axis(\"equal\")\n",
        "plt.show()"
      ]
    },
    {
      "cell_type": "code",
      "execution_count": null,
      "metadata": {
        "id": "oZYrQuruoqxe"
      },
      "outputs": [],
      "source": [
        "# Demonstrate the flower-petal model partitioning scheme I'm using\n",
        "\n",
        "def plot_hex_points(points):\n",
        "    plt.figure(figsize=(10,10))\n",
        "    points = np.array(points)\n",
        "    # Divide into quarters\n",
        "    partition_indices = divide_hex_grid_flower(points, 14.85)\n",
        "    plt.scatter(points.T[0], points.T[1], c=partition_indices, s=300.0, cmap=\"rainbow\")\n",
        "    plt.axis(\"equal\")\n",
        "    plt.show()\n",
        "    \n",
        "plot_hex_points(mirror_positions)"
      ]
    },
    {
      "cell_type": "markdown",
      "metadata": {
        "id": "yLh9AHfCoqxf"
      },
      "source": [
        "# Visualization code for debugging"
      ]
    },
    {
      "cell_type": "markdown",
      "metadata": {
        "id": "Ml7V9lJjoqxf"
      },
      "source": [
        "This cell renders a 3D visualization of the mirror angles and the rays projected by the mirrors. It can be useful for debugging purposes (and helped me catch a critical error just in time!)\n",
        "\n",
        "![image.png](attachment:ede4738d-c425-4f1c-9289-d1a7fbd48d31.png)"
      ]
    },
    {
      "cell_type": "code",
      "execution_count": null,
      "metadata": {
        "id": "ygrTJfUwoqxf"
      },
      "outputs": [],
      "source": [
        "# if scene:\n",
        "#     scene.delete()\n",
        "scene = vis.canvas(width=1200, height=1200)\n",
        "vis.rate(10)\n",
        "\n",
        "def vec_arrow(pos, axis, color=vis.color.yellow):\n",
        "    return vis.cylinder(pos=pos, axis=axis, radius=2.0, color=color, opacity=0.2)\n",
        "\n",
        "def np_to_vec(np_arr):\n",
        "    return vec(*(np_arr))\n",
        "\n",
        "def add_mirror_target(mirror_pos, mirror_normal, target_pos, mirror_color=vis.color.white):\n",
        "\n",
        "    target = vis.sphere(pos = target_pos, radius = 10, color = vis.color.blue, opacity=0.5)\n",
        "    mirror = vis.cylinder(pos = mirror_pos, radius = 10, axis = -0.5 * mirror_normal.norm(), color = mirror_color, opacity=0.5)\n",
        "\n",
        "    v_target_mirror = mirror_pos - target_pos\n",
        "\n",
        "#     arrow_target_pos = vec_arrow(pos=vec(0,0,0), axis=target_pos)\n",
        "#     arrow_mirror_pos = vec_arrow(pos=vec(0,0,0), axis=mirror_pos)\n",
        "    arrow_target_mirror = vec_arrow(pos=mirror_pos, axis=-1*v_target_mirror, color=vis.color.yellow)\n",
        "#     arrow_mirror_sun = vec_arrow(pos=mirror_pos, axis=50 * v_mirror_sun, color=vis.color.red)\n",
        "\n",
        "\n",
        "n_points = 999\n",
        "\n",
        "# vis.sphere(pos = vec(0,-300,0), radius = 20, color = vis.color.white, opacity=0.5)\n",
        "# vis.sphere(pos = vec(300,-300,0), radius = 20, color = vis.color.red, opacity=0.5)\n",
        "# vis.sphere(pos = vec(0,300-300,0), radius = 20, color = vis.color.yellow, opacity=0.5)\n",
        "# vis.sphere(pos = vec(0,-300,300), radius = 20, color = vis.color.green, opacity=0.5)\n",
        "\n",
        "mirror_positions_sections = divide_hex_grid_flower(mirror_positions)\n",
        "# sections_colors = [vis.color.white, vis.color.white, vis.color.white, vis.color.white, vis.color.white, vis.color.white, vis.color.white]\n",
        "sections_colors = [vis.color.white, vis.color.red, vis.color.orange, vis.color.yellow, vis.color.green, vis.color.blue, vis.color.purple]\n",
        "\n",
        "for i, (mirror_pos, mirror_normal, target_pos, section) in enumerate(zip(mirror_positions, mirror_normals, target_positions, mirror_positions_sections)):\n",
        "    if i >= n_points:\n",
        "        break\n",
        "    add_mirror_target(np_to_vec(mirror_pos), np_to_vec(mirror_normal), np_to_vec(target_pos), mirror_color = sections_colors[int(section)])"
      ]
    },
    {
      "cell_type": "code",
      "execution_count": null,
      "metadata": {
        "id": "26BwomYVoqxf"
      },
      "outputs": [],
      "source": [
        "scene.delete()"
      ]
    },
    {
      "cell_type": "markdown",
      "metadata": {
        "id": "26J--Bnxoqxf"
      },
      "source": [
        "# Printing the mirror array frame\n",
        "\n",
        "So by this point I had developed the end-to-end process where you can input a set of coordinates that form your desired image, the location of the focal plane, and the location of the sun, and you get out a .stl model of the mirror array frame that you can 3D print. So now we just need to print this out and glue on the mirrors -- simple, right?\n",
        "\n",
        "![](https://github.com/1kaiser/3D-printed-mirror-array/blob/main/img/yes_but_no.gif?raw=1)\n",
        "\n",
        "I printed four different attempts at a smaller-scale mirror array to test for the big thing. Each small frame had 37 mirrors and would project the design of a heart. (37 mirrors corresponds to a radius $R=3$ hex grid, which was the largest I could print out in a single piece given my Ender3's 220mm × 220mm print area.)\n",
        "\n",
        "\n",
        "![](https://github.com/1kaiser/3D-printed-mirror-array/blob/main/img/test_structures.jpg?raw=1)\n",
        "\n",
        "There were two main problems I encountered when printing these test arrays. The first was warping due to the print not fully adhering to the print bed. This would cause the corners at the bottom to slightly peel up due to tension from the cooling layers, which would affect the angles of the hexagonal pillars above the warped base region and distort the projected image. I solved this problem by lowering the bed temperature and applying some hairspray to the print bed (some 3D printing tribal knowledge...), which worked like a charm.\n",
        "\n",
        "The second problem was how to print out a hex grid which was too big to fit within the print volume. Some slicer programs include built in tools to slice large prints into pieces, but I couldn't use these because the planar cuts would slice through the hexagonal pillars, which would create a ridge on the top face and distort the angles of the mirrors, which need to be accurate to about $\\delta \\theta \\approx \\tan^{-1} \\left(\\frac{\\text{pixel width}}{\\text{focal length}}\\right)$ (which is a few tenths of a degree). So I created a few custom functions to input a set of pillar models and partition them into smaller printable sub-volumes which could be glue together. This way, the only seams would be at the base of the model, which wouldn't affect the normal vectors of the mirrors.\n",
        "\n",
        "I played around with a couple of different partitioning schemes, but I settled on using this flower-like pattern shown below, both because I liked the way it looked, and because it provides more structural strength since there is no continuous seam across the entire structure along which the assembled object could snap in half.\n",
        "\n",
        "\n",
        "![](https://github.com/1kaiser/3D-printed-mirror-array/blob/main/img/hexflower.jpeg?raw=1)\n",
        "\n",
        "The entire model took about a week to print (I used adaptive layer heights to speed things up a bit when printing the bottom and middle layers, but the top layers needed to be very fine to allow the mirrors to be mounted at exactly the right angles). I assembled the frame and used cyanoacrylate glue to bond each section of the frame at the base. (I had to slightly sand the edges of the final section to get it to fit.) The fully assembled frame is shown below.\n",
        "\n",
        "![](https://github.com/1kaiser/3D-printed-mirror-array/blob/main/img/frames.jpeg?raw=1)\n",
        "\n",
        "The last step was carefully glueing all 196 mirrors to the completed frame. I found out on some of my earlier test structures that cyanoacrylate glue will produce a lot of vapors when it is curing which can deposit on the mirrors and cause them to look foggy. (They still reflect enough light to work but it looks uglier...) To prevent this, I had a fan running blowing air from right to left while I glued the mirrors, which I attached in a right-to-left, top-to-bottom ordering to minimize vapor exposure.\n",
        "\n",
        "![](https://github.com/1kaiser/3D-printed-mirror-array/blob/main/img/withmirrors.jpeg?raw=1)\n",
        "\n",
        "By the time I finished mounting all of the mirrors, it was the night before I was planning to propose, so in a nail-biting twist of fate, I didn't actually get to test the final structure at sunset in advance. Fortunately, it worked exactly as I wanted it to! (And even more fortunately, the temperamental fog of the SF Bay Area decided to take the day off.)\n",
        "\n",
        "This was the first project I've done with 3D printing (and in fact I got into 3D printing specifically to do this idea), and it felt like magic having a fabricator sitting in my bathroom that could just bring this idea into existence from nothing but a bit of code and some basic principles of physics.\n",
        "\n",
        "![](https://github.com/1kaiser/3D-printed-mirror-array/blob/main/img/IMG_3009.jpeg?raw=1)\n"
      ]
    },
    {
      "cell_type": "code",
      "execution_count": null,
      "metadata": {
        "id": "35hgmkTkoqxf"
      },
      "outputs": [],
      "source": [
        ""
      ]
    }
  ],
  "metadata": {
    "kernelspec": {
      "display_name": "Python 3",
      "language": "python",
      "name": "python3"
    },
    "language_info": {
      "codemirror_mode": {
        "name": "ipython",
        "version": 3
      },
      "file_extension": ".py",
      "mimetype": "text/x-python",
      "name": "python",
      "nbconvert_exporter": "python",
      "pygments_lexer": "ipython3",
      "version": "3.7.6"
    },
    "colab": {
      "name": "mirror_array.ipynb",
      "provenance": []
    }
  },
  "nbformat": 4,
  "nbformat_minor": 0
}